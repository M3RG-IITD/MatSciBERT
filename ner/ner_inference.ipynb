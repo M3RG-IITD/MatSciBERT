{
 "cells": [
  {
   "cell_type": "markdown",
   "id": "fcf70160-6fff-4659-b772-e829f8f1a3bf",
   "metadata": {},
   "source": [
    "<h1>Importing libraries and utilites"
   ]
  },
  {
   "cell_type": "code",
   "execution_count": 1,
   "id": "360aa098",
   "metadata": {},
   "outputs": [],
   "source": [
    "import os\n",
    "import pickle\n",
    "import sys\n",
    "import multiprocessing as mp\n",
    "sys.path.append('../')\n",
    "\n",
    "from argparse import ArgumentParser\n",
    "import numpy as np\n",
    "import pandas as pd\n",
    "from tqdm import tqdm\n",
    "from chemdataextractor.doc import Paragraph\n",
    "\n",
    "import torch\n",
    "from torch import nn\n",
    "\n",
    "import ner_datasets\n",
    "from models import BERT_CRF\n",
    "from normalize_text import normalize\n",
    "\n",
    "from transformers import (\n",
    "    AutoConfig,\n",
    "    AutoModelForTokenClassification,\n",
    "    AutoTokenizer,\n",
    "    EvalPrediction,\n",
    "    Trainer,\n",
    "    TrainingArguments,\n",
    "    set_seed,\n",
    "    AdamW,\n",
    ")\n",
    "\n",
    "import chemdataextractor as cde"
   ]
  },
  {
   "cell_type": "code",
   "execution_count": 2,
   "id": "4b52c284",
   "metadata": {},
   "outputs": [
    {
     "name": "stdout",
     "output_type": "stream",
     "text": [
      "using device: cuda\n"
     ]
    }
   ],
   "source": [
    "if torch.cuda.is_available():\n",
    "    device = torch.device('cuda')\n",
    "else:\n",
    "    device = torch.device('cpu')\n",
    "\n",
    "print('using device:', device)\n",
    "\n",
    "def apply_parallel(func_name, l):\n",
    "    p = min(len(l), mp.cpu_count())\n",
    "    with mp.Pool(processes=p) as pool:\n",
    "        r = list(tqdm(pool.imap(func_name, l), total=len(l)))\n",
    "    return r"
   ]
  },
  {
   "cell_type": "code",
   "execution_count": 3,
   "id": "bac25155",
   "metadata": {},
   "outputs": [],
   "source": [
    "root_dir = '../'\n",
    "cache_dir = os.path.join(root_dir, '.cache')\n",
    "output_dir = os.path.join(root_dir, 'ner/output_matscibert_matscholar')\n",
    "model_name = os.path.join(root_dir, 'ner/models/matscholar')\n",
    "to_normalize = True"
   ]
  },
  {
   "cell_type": "code",
   "execution_count": 4,
   "id": "07dce373",
   "metadata": {},
   "outputs": [],
   "source": [
    "# captions is the list of sentences from which entities need to be extracted\n",
    "\n",
    "captions= ['Glasses are emerging as promising and efficient solid electrolytes for all-solid-state sodium-ion batteries.',\n",
    "           'The current study shows a significant enhancement in crack resistance (from 11.3 N to 32.9 N) for Na3Al1.8Si1.65P1.8O12 glass (Ag-0 glass) upon Na+-Ag+ ion-exchange (IE) due to compressive stresses generated in the glass surface while the ionic conductivity values (∼10−5 S/cm at 473 K) were retained. ',\n",
    "           'In this study, magic angle spinning-nuclear magnetic resonance (MAS-NMR), molecular dynamics (MD) simulations, Vickers micro hardness, and impedance spectroscopic techniques were used to evaluate the intermediate-range structure, atomic structure, crack resistance and conductivity of the glass.',\n",
    "           'Selected beam geometry allows us to suppress the bulk contribution to sum-frequency generation from crystalline quartz and use sum-frequency vibrational spectroscopy to study water/α-quartz interfaces with different bulk pH values.',\n",
    "           'XRD patterns of glass-ceramics sintered at different holding times; identifying rutile TiO2 crystal grains.']\n",
    "           \n",
    "           "
   ]
  },
  {
   "cell_type": "code",
   "execution_count": 5,
   "id": "98a6784b",
   "metadata": {},
   "outputs": [
    {
     "name": "stderr",
     "output_type": "stream",
     "text": [
      "100%|██████████| 5/5 [00:00<00:00,  7.72it/s]\n"
     ]
    }
   ],
   "source": [
    "# del df\n",
    "captions = [c for c in captions if type(c) == str]\n",
    "\n",
    "def tokenize_caption(c):\n",
    "    para = Paragraph(normalize(c))\n",
    "    ret = []\n",
    "    for sent in para.tokens:\n",
    "        ret.append([t.text for t in sent])\n",
    "    return ret\n",
    "\n",
    "tok_captions = apply_parallel(tokenize_caption, captions)"
   ]
  },
  {
   "cell_type": "code",
   "execution_count": 6,
   "id": "d268ffc8",
   "metadata": {},
   "outputs": [
    {
     "name": "stdout",
     "output_type": "stream",
     "text": [
      "4401\n"
     ]
    }
   ],
   "source": [
    "sum_tok_captions = []\n",
    "for t in tok_captions:\n",
    "    sum_tok_captions += t\n",
    "tok_captions = sum_tok_captions\n",
    "\n",
    "train_X, train_y = ner_datasets.get_ner_data('matscholar', norm=to_normalize)[:2]\n",
    "print(len(train_X))"
   ]
  },
  {
   "cell_type": "code",
   "execution_count": 7,
   "id": "2c3e1101",
   "metadata": {},
   "outputs": [
    {
     "name": "stdout",
     "output_type": "stream",
     "text": [
      "['B-APL', 'B-CMT', 'B-DSC', 'B-MAT', 'B-PRO', 'B-SMT', 'B-SPL', 'I-APL', 'I-CMT', 'I-DSC', 'I-MAT', 'I-PRO', 'I-SMT', 'I-SPL', 'O']\n",
      "15\n"
     ]
    }
   ],
   "source": [
    "unique_labels = set(label for sent in train_y for label in sent)\n",
    "label_list = sorted(list(unique_labels))\n",
    "print(label_list)\n",
    "tag2id = {tag: id for id, tag in enumerate(label_list)}\n",
    "id2tag = {id: tag for tag, id in tag2id.items()}\n",
    "num_labels = len(label_list)\n",
    "print(num_labels)"
   ]
  },
  {
   "cell_type": "code",
   "execution_count": 8,
   "id": "186ca469",
   "metadata": {},
   "outputs": [
    {
     "name": "stdout",
     "output_type": "stream",
     "text": [
      "7\n"
     ]
    }
   ],
   "source": [
    "cnt = dict()\n",
    "for sent in train_y:\n",
    "    for label in sent:\n",
    "        if label[0] in ['I', 'B']: tag = label[2:]\n",
    "        else: continue\n",
    "        if tag not in cnt: cnt[tag] = 1\n",
    "        else: cnt[tag] += 1\n",
    "\n",
    "eval_labels = sorted([l for l in cnt.keys() if l != 'experiment_evoking_word'])\n",
    "print(len(eval_labels))"
   ]
  },
  {
   "cell_type": "code",
   "execution_count": 9,
   "id": "8b3d2024",
   "metadata": {},
   "outputs": [],
   "source": [
    "tokenizer_kwargs = {\n",
    "    'cache_dir': cache_dir,\n",
    "    'use_fast': True,\n",
    "    'revision': 'main',\n",
    "    'use_auth_token': None,\n",
    "    'model_max_length': 512\n",
    "}\n",
    "tokenizer = AutoTokenizer.from_pretrained('m3rg-iitd/matscibert', **tokenizer_kwargs)"
   ]
  },
  {
   "cell_type": "code",
   "execution_count": 10,
   "id": "14c676c2",
   "metadata": {},
   "outputs": [],
   "source": [
    "labels = [['O' for i in range(len(sent))] for sent in tok_captions]"
   ]
  },
  {
   "cell_type": "code",
   "execution_count": 11,
   "id": "bede3e4c",
   "metadata": {},
   "outputs": [
    {
     "name": "stderr",
     "output_type": "stream",
     "text": [
      "100%|██████████| 5/5 [00:00<00:00, 747.81it/s]\n",
      "100%|██████████| 5/5 [00:00<00:00, 512.89it/s]\n"
     ]
    }
   ],
   "source": [
    "def tokenize(c):\n",
    "    return tokenizer(c, is_split_into_words=True, return_offsets_mapping=True, padding=True)\n",
    "captions_encodings = apply_parallel(tokenize, tok_captions)\n",
    "\n",
    "tok_captions = [t for x, t in zip(captions_encodings, tok_captions) if len(x['input_ids']) <= 512]\n",
    "labels = [l for x, l in zip(captions_encodings, labels) if len(x['input_ids']) <= 512]\n",
    "def tokenize2(c):\n",
    "    return tokenizer(c, is_split_into_words=True, return_offsets_mapping=True, max_length=512, padding='max_length')\n",
    "captions_encodings = apply_parallel(tokenize2, tok_captions)\n",
    "captions_encodings = {k: [x[k] for x in captions_encodings] for k in captions_encodings[0].keys()}\n",
    "\n",
    "\n",
    "def encode_tags(tags, encodings):\n",
    "    labels = [[tag2id[tag] for tag in doc] for doc in tags]\n",
    "    encoded_labels = []\n",
    "    i = 0\n",
    "    for doc_labels, doc_offset in tqdm(zip(labels, encodings['offset_mapping'])):\n",
    "        doc_enc_labels = np.ones(len(doc_offset), dtype=int) * -100\n",
    "        arr_offset = np.array(doc_offset)\n",
    "        try:\n",
    "            doc_enc_labels[(arr_offset[:, 0] == 0) & (arr_offset[:, 1] != 0)] = doc_labels\n",
    "        except:\n",
    "            print(i)\n",
    "            raise\n",
    "        i += 1\n",
    "        encoded_labels.append(doc_enc_labels.tolist())\n",
    "    return encoded_labels"
   ]
  },
  {
   "cell_type": "code",
   "execution_count": 12,
   "id": "7fd01902",
   "metadata": {},
   "outputs": [
    {
     "name": "stderr",
     "output_type": "stream",
     "text": [
      "5it [00:00, 1152.91it/s]\n"
     ]
    }
   ],
   "source": [
    "lsbs = encode_tags(labels, captions_encodings)\n",
    "\n",
    "# captions_encodings.pop('offset_mapping', None)\n",
    "del captions_encodings['offset_mapping']"
   ]
  },
  {
   "cell_type": "code",
   "execution_count": 13,
   "id": "8077c9b0",
   "metadata": {},
   "outputs": [],
   "source": [
    "caption_dataset = ner_datasets.MyDataset(captions_encodings, lsbs)"
   ]
  },
  {
   "cell_type": "code",
   "execution_count": 14,
   "id": "faf932d7",
   "metadata": {},
   "outputs": [],
   "source": [
    "config_kwargs = {\n",
    "    'num_labels': num_labels,\n",
    "    'cache_dir': cache_dir,\n",
    "    'revision': 'main',\n",
    "    'use_auth_token': None,\n",
    "}\n",
    "config = AutoConfig.from_pretrained('m3rg-iitd/matscibert', **config_kwargs)"
   ]
  },
  {
   "cell_type": "code",
   "execution_count": 15,
   "id": "9c86a392",
   "metadata": {},
   "outputs": [
    {
     "name": "stderr",
     "output_type": "stream",
     "text": [
      "Some weights of the model checkpoint at m3rg-iitd/matscibert were not used when initializing BertForTokenClassification: ['cls.predictions.transform.LayerNorm.bias', 'cls.predictions.transform.dense.weight', 'cls.predictions.decoder.weight', 'cls.predictions.transform.LayerNorm.weight', 'cls.predictions.transform.dense.bias', 'cls.predictions.bias', 'cls.predictions.decoder.bias']\n",
      "- This IS expected if you are initializing BertForTokenClassification from the checkpoint of a model trained on another task or with another architecture (e.g. initializing a BertForSequenceClassification model from a BertForPreTraining model).\n",
      "- This IS NOT expected if you are initializing BertForTokenClassification from the checkpoint of a model that you expect to be exactly identical (initializing a BertForSequenceClassification model from a BertForSequenceClassification model).\n",
      "Some weights of BertForTokenClassification were not initialized from the model checkpoint at m3rg-iitd/matscibert and are newly initialized: ['classifier.bias', 'classifier.weight']\n",
      "You should probably TRAIN this model on a down-stream task to be able to use it for predictions and inference.\n"
     ]
    }
   ],
   "source": [
    "model = BERT_CRF('m3rg-iitd/matscibert', device, config, cache_dir)"
   ]
  },
  {
   "cell_type": "code",
   "execution_count": 16,
   "id": "96ac8876",
   "metadata": {},
   "outputs": [],
   "source": [
    "ner_model_path = os.path.join(os.getcwd(), 'models/matscholar')\n",
    "model.load_state_dict(torch.load(os.path.join(ner_model_path, 'pytorch_model.bin'), map_location='cpu'))\n",
    "model = model.to(device)"
   ]
  },
  {
   "cell_type": "code",
   "execution_count": 17,
   "id": "e676d0de",
   "metadata": {},
   "outputs": [
    {
     "name": "stderr",
     "output_type": "stream",
     "text": [
      "/home/m3rg2000/anaconda3/envs/matscibert/lib/python3.7/site-packages/torchcrf/__init__.py:249: UserWarning: where received a uint8 condition tensor. This behavior is deprecated and will be removed in a future version of PyTorch. Use a boolean condition instead. (Triggered internally at /opt/conda/conda-bld/pytorch_1670525553989/work/aten/src/ATen/native/TensorCompare.cpp:413.)\n",
      "  score = torch.where(mask[i].unsqueeze(1), next_score, score)\n"
     ]
    },
    {
     "data": {
      "text/html": [
       "\n",
       "    <div>\n",
       "      \n",
       "      <progress value='1' max='1' style='width:300px; height:20px; vertical-align: middle;'></progress>\n",
       "      [1/1 : < :]\n",
       "    </div>\n",
       "    "
      ],
      "text/plain": [
       "<IPython.core.display.HTML object>"
      ]
     },
     "metadata": {},
     "output_type": "display_data"
    }
   ],
   "source": [
    "training_args = TrainingArguments(\n",
    "    output_dir=output_dir,\n",
    "    per_device_eval_batch_size=64,\n",
    "    seed=0\n",
    ")\n",
    "\n",
    "trainer = Trainer(\n",
    "    model=model,\n",
    "    args=training_args,\n",
    "    eval_dataset=caption_dataset,\n",
    "    tokenizer=tokenizer,\n",
    ")\n",
    "\n",
    "preds = np.argmax(trainer.predict(caption_dataset).predictions, axis=2)\n",
    "\n",
    "true_preds = [\n",
    "    [id2tag[p] for (p, l) in zip(prediction, label) if l != -100]\n",
    "    for prediction, label in zip(preds, lsbs)\n",
    "]\n",
    "\n",
    "assert len(true_preds) == len(tok_captions)\n",
    "\n",
    "for p, a in zip(true_preds, tok_captions):\n",
    "    assert len(p) == len(a)\n",
    "    \n",
    "res = []\n",
    "for t, p in zip(tok_captions, true_preds):\n",
    "    res.append(list(zip(t, p)))"
   ]
  },
  {
   "cell_type": "code",
   "execution_count": 18,
   "id": "717eb2b1",
   "metadata": {},
   "outputs": [],
   "source": [
    "caption_preds = res"
   ]
  },
  {
   "cell_type": "code",
   "execution_count": 19,
   "id": "add06258",
   "metadata": {},
   "outputs": [],
   "source": [
    "from collections import defaultdict, Counter"
   ]
  },
  {
   "cell_type": "code",
   "execution_count": 20,
   "id": "6f3b11ac",
   "metadata": {},
   "outputs": [
    {
     "name": "stderr",
     "output_type": "stream",
     "text": [
      "5it [00:00, 13.65it/s]\n"
     ]
    }
   ],
   "source": [
    "idxs = []\n",
    "for i, c in tqdm(enumerate(captions)):\n",
    "    para = Paragraph(normalize(c))\n",
    "    for sent in para.tokens:\n",
    "        idxs.append(i)"
   ]
  },
  {
   "cell_type": "code",
   "execution_count": 22,
   "id": "4b0e9fc9",
   "metadata": {},
   "outputs": [],
   "source": [
    "tags = dict()\n",
    "for idx, c in zip(idxs, caption_preds):\n",
    "    if idx not in tags:\n",
    "        tags[idx] = defaultdict(list)\n",
    "    for i, t in enumerate(c):\n",
    "        if t[1][0] in ['I', 'O']:\n",
    "            continue\n",
    "        s = t[0]\n",
    "        j = i + 1\n",
    "        while j < len(c) and c[j][1][0] == 'I':\n",
    "            assert t[1][2:] == c[j][1][2:]\n",
    "            s += ' ' + c[j][0]\n",
    "            j += 1\n",
    "        tags[idx][t[1][2:]].append(s)"
   ]
  },
  {
   "cell_type": "code",
   "execution_count": 23,
   "id": "63af7121",
   "metadata": {},
   "outputs": [],
   "source": [
    "d = defaultdict(list)\n",
    "for c in caption_preds:\n",
    "    for i, t in enumerate(c):\n",
    "        if t[1][0] in ['I', 'O']:\n",
    "            continue\n",
    "        s = t[0]\n",
    "        j = i + 1\n",
    "        while j < len(c) and c[j][1][0] == 'I':\n",
    "            assert t[1][2:] == c[j][1][2:]\n",
    "            s += ' ' + c[j][0]\n",
    "            j += 1\n",
    "        d[t[1][2:]].append(s)"
   ]
  },
  {
   "cell_type": "code",
   "execution_count": 24,
   "id": "22e85811",
   "metadata": {},
   "outputs": [],
   "source": [
    "df = pd.DataFrame(data=captions, columns=['Text'])"
   ]
  },
  {
   "cell_type": "code",
   "execution_count": 25,
   "id": "e42e996d",
   "metadata": {},
   "outputs": [],
   "source": [
    "for k in d:\n",
    "    df[k] = [list() for i in range(len(df))]"
   ]
  },
  {
   "cell_type": "code",
   "execution_count": 26,
   "id": "0d0aff78",
   "metadata": {},
   "outputs": [
    {
     "data": {
      "text/html": [
       "<div>\n",
       "<style scoped>\n",
       "    .dataframe tbody tr th:only-of-type {\n",
       "        vertical-align: middle;\n",
       "    }\n",
       "\n",
       "    .dataframe tbody tr th {\n",
       "        vertical-align: top;\n",
       "    }\n",
       "\n",
       "    .dataframe thead th {\n",
       "        text-align: right;\n",
       "    }\n",
       "</style>\n",
       "<table border=\"1\" class=\"dataframe\">\n",
       "  <thead>\n",
       "    <tr style=\"text-align: right;\">\n",
       "      <th></th>\n",
       "      <th>Text</th>\n",
       "      <th>DSC</th>\n",
       "      <th>APL</th>\n",
       "      <th>PRO</th>\n",
       "      <th>MAT</th>\n",
       "      <th>CMT</th>\n",
       "      <th>SMT</th>\n",
       "      <th>SPL</th>\n",
       "    </tr>\n",
       "  </thead>\n",
       "  <tbody>\n",
       "    <tr>\n",
       "      <th>0</th>\n",
       "      <td>Glasses are emerging as promising and efficien...</td>\n",
       "      <td>[]</td>\n",
       "      <td>[]</td>\n",
       "      <td>[]</td>\n",
       "      <td>[]</td>\n",
       "      <td>[]</td>\n",
       "      <td>[]</td>\n",
       "      <td>[]</td>\n",
       "    </tr>\n",
       "    <tr>\n",
       "      <th>1</th>\n",
       "      <td>The current study shows a significant enhancem...</td>\n",
       "      <td>[]</td>\n",
       "      <td>[]</td>\n",
       "      <td>[]</td>\n",
       "      <td>[]</td>\n",
       "      <td>[]</td>\n",
       "      <td>[]</td>\n",
       "      <td>[]</td>\n",
       "    </tr>\n",
       "    <tr>\n",
       "      <th>2</th>\n",
       "      <td>In this study, magic angle spinning-nuclear ma...</td>\n",
       "      <td>[]</td>\n",
       "      <td>[]</td>\n",
       "      <td>[]</td>\n",
       "      <td>[]</td>\n",
       "      <td>[]</td>\n",
       "      <td>[]</td>\n",
       "      <td>[]</td>\n",
       "    </tr>\n",
       "    <tr>\n",
       "      <th>3</th>\n",
       "      <td>Selected beam geometry allows us to suppress t...</td>\n",
       "      <td>[]</td>\n",
       "      <td>[]</td>\n",
       "      <td>[]</td>\n",
       "      <td>[]</td>\n",
       "      <td>[]</td>\n",
       "      <td>[]</td>\n",
       "      <td>[]</td>\n",
       "    </tr>\n",
       "    <tr>\n",
       "      <th>4</th>\n",
       "      <td>XRD patterns of glass-ceramics sintered at dif...</td>\n",
       "      <td>[]</td>\n",
       "      <td>[]</td>\n",
       "      <td>[]</td>\n",
       "      <td>[]</td>\n",
       "      <td>[]</td>\n",
       "      <td>[]</td>\n",
       "      <td>[]</td>\n",
       "    </tr>\n",
       "  </tbody>\n",
       "</table>\n",
       "</div>"
      ],
      "text/plain": [
       "                                                Text DSC APL PRO MAT CMT SMT  \\\n",
       "0  Glasses are emerging as promising and efficien...  []  []  []  []  []  []   \n",
       "1  The current study shows a significant enhancem...  []  []  []  []  []  []   \n",
       "2  In this study, magic angle spinning-nuclear ma...  []  []  []  []  []  []   \n",
       "3  Selected beam geometry allows us to suppress t...  []  []  []  []  []  []   \n",
       "4  XRD patterns of glass-ceramics sintered at dif...  []  []  []  []  []  []   \n",
       "\n",
       "  SPL  \n",
       "0  []  \n",
       "1  []  \n",
       "2  []  \n",
       "3  []  \n",
       "4  []  "
      ]
     },
     "execution_count": 26,
     "metadata": {},
     "output_type": "execute_result"
    }
   ],
   "source": [
    "df.head()"
   ]
  },
  {
   "cell_type": "code",
   "execution_count": 27,
   "id": "1454537a",
   "metadata": {},
   "outputs": [],
   "source": [
    "for i, t in tags.items():\n",
    "    for k in t:\n",
    "        assert k in d.keys()\n",
    "        df.loc[i, k].extend(t[k])"
   ]
  },
  {
   "cell_type": "code",
   "execution_count": 28,
   "id": "0f756082",
   "metadata": {},
   "outputs": [
    {
     "data": {
      "text/html": [
       "<div>\n",
       "<style scoped>\n",
       "    .dataframe tbody tr th:only-of-type {\n",
       "        vertical-align: middle;\n",
       "    }\n",
       "\n",
       "    .dataframe tbody tr th {\n",
       "        vertical-align: top;\n",
       "    }\n",
       "\n",
       "    .dataframe thead th {\n",
       "        text-align: right;\n",
       "    }\n",
       "</style>\n",
       "<table border=\"1\" class=\"dataframe\">\n",
       "  <thead>\n",
       "    <tr style=\"text-align: right;\">\n",
       "      <th></th>\n",
       "      <th>Text</th>\n",
       "      <th>DSC</th>\n",
       "      <th>APL</th>\n",
       "      <th>PRO</th>\n",
       "      <th>MAT</th>\n",
       "      <th>CMT</th>\n",
       "      <th>SMT</th>\n",
       "      <th>SPL</th>\n",
       "    </tr>\n",
       "  </thead>\n",
       "  <tbody>\n",
       "    <tr>\n",
       "      <th>0</th>\n",
       "      <td>Glasses are emerging as promising and efficien...</td>\n",
       "      <td>[Glasses]</td>\n",
       "      <td>[solid electrolytes, all-solid-state sodium - ...</td>\n",
       "      <td>[]</td>\n",
       "      <td>[]</td>\n",
       "      <td>[]</td>\n",
       "      <td>[]</td>\n",
       "      <td>[]</td>\n",
       "    </tr>\n",
       "    <tr>\n",
       "      <th>1</th>\n",
       "      <td>The current study shows a significant enhancem...</td>\n",
       "      <td>[glass, glass, glass surface]</td>\n",
       "      <td>[]</td>\n",
       "      <td>[crack resistance, compressive stresses, ionic...</td>\n",
       "      <td>[Na3Al1.8Si1.65P1.8O12, Ag-0]</td>\n",
       "      <td>[]</td>\n",
       "      <td>[]</td>\n",
       "      <td>[]</td>\n",
       "    </tr>\n",
       "    <tr>\n",
       "      <th>2</th>\n",
       "      <td>In this study, magic angle spinning-nuclear ma...</td>\n",
       "      <td>[glass]</td>\n",
       "      <td>[]</td>\n",
       "      <td>[intermediate - range structure, atomic struct...</td>\n",
       "      <td>[]</td>\n",
       "      <td>[magic angle spinning - nuclear magnetic reson...</td>\n",
       "      <td>[]</td>\n",
       "      <td>[]</td>\n",
       "    </tr>\n",
       "    <tr>\n",
       "      <th>3</th>\n",
       "      <td>Selected beam geometry allows us to suppress t...</td>\n",
       "      <td>[bulk, crystalline, interfaces]</td>\n",
       "      <td>[]</td>\n",
       "      <td>[pH]</td>\n",
       "      <td>[quartz, α-quartz]</td>\n",
       "      <td>[sum - frequency vibrational spectroscopy]</td>\n",
       "      <td>[]</td>\n",
       "      <td>[]</td>\n",
       "    </tr>\n",
       "    <tr>\n",
       "      <th>4</th>\n",
       "      <td>XRD patterns of glass-ceramics sintered at dif...</td>\n",
       "      <td>[glass - ceramics, crystal grains]</td>\n",
       "      <td>[]</td>\n",
       "      <td>[]</td>\n",
       "      <td>[TiO2]</td>\n",
       "      <td>[XRD]</td>\n",
       "      <td>[sintered]</td>\n",
       "      <td>[rutile]</td>\n",
       "    </tr>\n",
       "  </tbody>\n",
       "</table>\n",
       "</div>"
      ],
      "text/plain": [
       "                                                Text  \\\n",
       "0  Glasses are emerging as promising and efficien...   \n",
       "1  The current study shows a significant enhancem...   \n",
       "2  In this study, magic angle spinning-nuclear ma...   \n",
       "3  Selected beam geometry allows us to suppress t...   \n",
       "4  XRD patterns of glass-ceramics sintered at dif...   \n",
       "\n",
       "                                  DSC  \\\n",
       "0                           [Glasses]   \n",
       "1       [glass, glass, glass surface]   \n",
       "2                             [glass]   \n",
       "3     [bulk, crystalline, interfaces]   \n",
       "4  [glass - ceramics, crystal grains]   \n",
       "\n",
       "                                                 APL  \\\n",
       "0  [solid electrolytes, all-solid-state sodium - ...   \n",
       "1                                                 []   \n",
       "2                                                 []   \n",
       "3                                                 []   \n",
       "4                                                 []   \n",
       "\n",
       "                                                 PRO  \\\n",
       "0                                                 []   \n",
       "1  [crack resistance, compressive stresses, ionic...   \n",
       "2  [intermediate - range structure, atomic struct...   \n",
       "3                                               [pH]   \n",
       "4                                                 []   \n",
       "\n",
       "                             MAT  \\\n",
       "0                             []   \n",
       "1  [Na3Al1.8Si1.65P1.8O12, Ag-0]   \n",
       "2                             []   \n",
       "3             [quartz, α-quartz]   \n",
       "4                         [TiO2]   \n",
       "\n",
       "                                                 CMT         SMT       SPL  \n",
       "0                                                 []          []        []  \n",
       "1                                                 []          []        []  \n",
       "2  [magic angle spinning - nuclear magnetic reson...          []        []  \n",
       "3         [sum - frequency vibrational spectroscopy]          []        []  \n",
       "4                                              [XRD]  [sintered]  [rutile]  "
      ]
     },
     "execution_count": 28,
     "metadata": {},
     "output_type": "execute_result"
    }
   ],
   "source": [
    "df"
   ]
  },
  {
   "cell_type": "code",
   "execution_count": null,
   "id": "0630b273-2320-44be-a09a-8b102d69cff3",
   "metadata": {},
   "outputs": [],
   "source": []
  }
 ],
 "metadata": {
  "kernelspec": {
   "display_name": "Python 3 (ipykernel)",
   "language": "python",
   "name": "python3"
  },
  "language_info": {
   "codemirror_mode": {
    "name": "ipython",
    "version": 3
   },
   "file_extension": ".py",
   "mimetype": "text/x-python",
   "name": "python",
   "nbconvert_exporter": "python",
   "pygments_lexer": "ipython3",
   "version": "3.7.9"
  }
 },
 "nbformat": 4,
 "nbformat_minor": 5
}
